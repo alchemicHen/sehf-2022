{
 "cells": [
  {
   "cell_type": "code",
   "execution_count": 33,
   "metadata": {},
   "outputs": [],
   "source": [
    "import pandas as pd\n",
    "import numpy as np\n",
    "import scipy.stats as stats\n",
    "import math\n",
    "import time\n",
    "import datetime as datetime\n",
    "from tqdm import tqdm"
   ]
  },
  {
   "cell_type": "markdown",
   "metadata": {},
   "source": [
    "Make sure that if you change any of the code segments related to a type of backtest to recompile the code segment changed before running the back test"
   ]
  },
  {
   "cell_type": "code",
   "execution_count": 34,
   "metadata": {},
   "outputs": [],
   "source": [
    "uso_df = pd.read_csv('USO_date_cleaned.csv')\n",
    "datelist = pd.read_csv('datelist.csv')\n",
    "dates = []\n",
    "for i,val in datelist.iterrows():\n",
    "    dates.append(val[1])"
   ]
  },
  {
   "cell_type": "markdown",
   "metadata": {},
   "source": [
    "Will calculate stats for the results of a benchmark. The input list is a 2 column dataframe of dates and the date's corresponding returns"
   ]
  },
  {
   "cell_type": "code",
   "execution_count": 35,
   "metadata": {},
   "outputs": [],
   "source": [
    "def calculateStats(returns):\n",
    "    # Average daily arithmetic returns\n",
    "    avg_arth_daily_returns = returns['Returns'].mean()\n",
    "\n",
    "    # Average daily geometric returns\n",
    "    avg_geo_daily_returns = (stats.gmean(returns['Returns']))# Why doeos the final do ** 52 -1\n",
    "\n",
    "    # Average annual arithmetic returns\n",
    "    avg_arth_yearly_returns = (avg_arth_daily_returns - 1) * len(returns.index)/10\n",
    "\n",
    "    # Average annual geometric returns\n",
    "    \n",
    "    # Standard Deviation\n",
    "    std_daily_returns = returns.std()\n",
    "    # In next line, 10 comes from having 10 years in data set, finding average number of days in year\n",
    "    std_yearly_returns = returns.std()*math.sqrt(len(returns.index)/10)\n",
    "\n",
    "    sharpe = (avg_arth_yearly_returns - .02)/std_yearly_returns\n",
    "\n",
    "    print(\"Backtest Statistics\")\n",
    "    print(\"Average Arithmetic Daily Returns: {0:.3%}\".format(float(avg_arth_daily_returns - 1)))\n",
    "    print(\"Average Geometric Daily Returns: {0:.3%}\".format(float(avg_geo_daily_returns - 1)))\n",
    "    print(\"Average Arithmetic Yearly Returns: {0:.3%}\".format(float(avg_arth_yearly_returns)))\n",
    "    print(\"Standard Deviation of Daily Returns: {0:.3f}\".format(float(std_daily_returns)))\n",
    "    print(\"Standard Deviation of Yearly Returns: {0:.3f}\".format(float(std_yearly_returns)))\n",
    "    print(\"Sharpe ratio: {0:.3f}\".format(float(sharpe)))\n",
    "\n"
   ]
  },
  {
   "cell_type": "markdown",
   "metadata": {},
   "source": [
    "Parts of backtester for current day signal"
   ]
  },
  {
   "cell_type": "code",
   "execution_count": 36,
   "metadata": {},
   "outputs": [],
   "source": [
    "def oneDay(open_close, date, cash):\n",
    "    day = open_close[open_close['Date'] == date]\n",
    "    prev_cash = cash\n",
    "    rowiter = day.iterrows()\n",
    "    for (i, row1), (j, row2) in zip(rowiter, rowiter):\n",
    "        etfs_bought = 0\n",
    "        if row1['Open'] < row1['Close']: # Buy\n",
    "            # etfs_bought = cash/row1['Close']\n",
    "            # cash -= etfs_bought * row1['Close']\n",
    "            # etfs_sold_price = etfs_bought * row2['Close']\n",
    "            # cash += etfs_sold_price\n",
    "\n",
    "            etfs_sold = cash/row1['Close']\n",
    "            cash += etfs_sold * row1['Close']\n",
    "            etfs_bought_price = etfs_sold * row2['Close']\n",
    "            cash -= etfs_bought_price\n",
    "        else: # SELL\n",
    "            # etfs_sold = cash/row1['Close']\n",
    "            # cash += etfs_sold * row1['Close']\n",
    "            # etfs_bought_price = etfs_sold * row2['Close']\n",
    "            # cash -= etfs_bought_price\n",
    "\n",
    "            etfs_bought = cash/row1['Close']\n",
    "            cash -= etfs_bought * row1['Close']\n",
    "            etfs_sold_price = etfs_bought * row2['Close']\n",
    "            cash += etfs_sold_price\n",
    "    returns = cash/prev_cash        \n",
    "    return [cash, date, returns]"
   ]
  },
  {
   "cell_type": "markdown",
   "metadata": {},
   "source": [
    "Test for oneDay for any chosen day"
   ]
  },
  {
   "cell_type": "code",
   "execution_count": 37,
   "metadata": {},
   "outputs": [
    {
     "name": "stdout",
     "output_type": "stream",
     "text": [
      "[99.46808510638297, '2012-01-03', 0.9946808510638298]\n"
     ]
    }
   ],
   "source": [
    "# Set start and end time intervals, initial day for one time test\n",
    "start_interval = \"09:30 - 10:00\"\n",
    "end_interval = \"15:30 - 16:00\"\n",
    "day = \"2012-01-03\"\n",
    "# Setting up dataframe with desired intervals\n",
    "open = uso_df[uso_df['Time Interval'] == start_interval]\n",
    "close = uso_df[uso_df['Time Interval'] == end_interval]\n",
    "open_close = pd.concat([open, close])\n",
    "open_close = open_close.sort_values(by='Date')\n",
    "# Call oneDay\n",
    "day = oneDay(open_close, day, 100)\n",
    "print(day)"
   ]
  },
  {
   "cell_type": "markdown",
   "metadata": {},
   "source": [
    "Method moreDays performs oneDay for all days in the dataframe"
   ]
  },
  {
   "cell_type": "code",
   "execution_count": 38,
   "metadata": {},
   "outputs": [],
   "source": [
    "def moreDays(dates, open_close, start_interval, end_interval, cash):\n",
    "    starting_cash = cash\n",
    "    returns = pd.DataFrame(columns = ['Date', 'Returns'])\n",
    "    open = uso_df[uso_df['Time Interval'] == start_interval]\n",
    "    close = uso_df[uso_df['Time Interval'] == end_interval]\n",
    "    open_close = pd.concat([open, close])\n",
    "    open_close = open_close.sort_values(by='Date')\n",
    "    for day in tqdm(dates):\n",
    "        prev_cash = cash\n",
    "        output = oneDay(open_close, day, cash)\n",
    "        cash += output[0]\n",
    "        cash -= prev_cash\n",
    "        temp = pd.DataFrame([[output[1],output[2]]], columns = ['Date','Returns'])\n",
    "        returns = returns.append(temp, ignore_index=True)\n",
    "    print(\"Starting Cash: {0:.2f}\".format(float(starting_cash)))\n",
    "    print(\"Ending Cash: {0:.2f}\".format(float(cash)))\n",
    "    calculateStats(returns)\n",
    "    print(cash)"
   ]
  },
  {
   "cell_type": "markdown",
   "metadata": {},
   "source": [
    "Set up input for current day signal backtest"
   ]
  },
  {
   "cell_type": "code",
   "execution_count": 39,
   "metadata": {},
   "outputs": [
    {
     "name": "stderr",
     "output_type": "stream",
     "text": [
      "100%|██████████| 2552/2552 [00:03<00:00, 687.11it/s]"
     ]
    },
    {
     "name": "stdout",
     "output_type": "stream",
     "text": [
      "Starting Cash: 1000.00\n",
      "Ending Cash: 4741.95\n",
      "Backtest Statistics\n",
      "Average Arithmetic Daily Returns: 0.072%\n",
      "Average Geometric Daily Returns: 0.061%\n",
      "Average Arithmetic Yearly Returns: 18.354%\n",
      "Standard Deviation of Daily Returns: 0.015\n",
      "Standard Deviation of Yearly Returns: 0.237\n",
      "Sharpe ratio: 0.690\n",
      "4741.9497348657005\n",
      "None\n"
     ]
    },
    {
     "name": "stderr",
     "output_type": "stream",
     "text": [
      "\n"
     ]
    }
   ],
   "source": [
    "# Set start and end time intervals, initial day for one time test\n",
    "start_interval = \"09:30 - 10:00\"\n",
    "end_interval = \"15:30 - 16:00\"\n",
    "cash = 1000\n",
    "# Setting up dataframe with desired intervals\n",
    "final = moreDays(dates, uso_df, start_interval, end_interval, cash)\n",
    "print(final)"
   ]
  },
  {
   "cell_type": "markdown",
   "metadata": {},
   "source": [
    "Parts of the benchmark backtester"
   ]
  },
  {
   "cell_type": "code",
   "execution_count": 40,
   "metadata": {},
   "outputs": [],
   "source": [
    "def oneDayBenchmark(open_close, date, cash):\n",
    "    day = open_close[open_close['Date'] == date]\n",
    "    \n",
    "    rowiter = day.iterrows()\n",
    "    for (i, row1) in rowiter:\n",
    "        etfs_bought = cash/row1['Open']\n",
    "        cash -= etfs_bought * row1['Open']\n",
    "        etfs_sold_price = etfs_bought * row1['Close']\n",
    "        cash += etfs_sold_price\n",
    "\n",
    "    return cash"
   ]
  },
  {
   "cell_type": "markdown",
   "metadata": {},
   "source": [
    "Test the oneDayBenchmark on any chosen day"
   ]
  },
  {
   "cell_type": "code",
   "execution_count": 41,
   "metadata": {},
   "outputs": [
    {
     "name": "stdout",
     "output_type": "stream",
     "text": [
      "99.97481108312341\n"
     ]
    }
   ],
   "source": [
    "interval = \"15:30 - 16:00\"\n",
    "day = \"2012-01-03\"\n",
    "# Setting up dataframe with desired intervals\n",
    "open_close = uso_df[uso_df['Time Interval'] == interval]\n",
    "open_close = open_close.sort_values(by = 'Date')\n",
    "final = oneDayBenchmark(open_close, day, 100)\n",
    "print(final)"
   ]
  },
  {
   "cell_type": "markdown",
   "metadata": {},
   "source": [
    "Method moreDays to run oneDayBenchmark on every day"
   ]
  },
  {
   "cell_type": "code",
   "execution_count": 42,
   "metadata": {},
   "outputs": [],
   "source": [
    "def moreDaysBenchmark(dates, uso_df, interval, cash):\n",
    "    open_close = uso_df[uso_df['Time Interval'] == interval]\n",
    "    open_close = open_close.sort_values(by = 'Date')\n",
    "    for day in tqdm(dates):\n",
    "        prev_cash = cash\n",
    "        cash += oneDayBenchmark(open_close, day, cash)\n",
    "        cash -= prev_cash\n",
    "    return cash"
   ]
  },
  {
   "cell_type": "markdown",
   "metadata": {},
   "source": [
    "Set up input for benchmark backtest"
   ]
  },
  {
   "cell_type": "code",
   "execution_count": 43,
   "metadata": {},
   "outputs": [
    {
     "name": "stderr",
     "output_type": "stream",
     "text": [
      "100%|██████████| 2552/2552 [00:01<00:00, 2014.32it/s]"
     ]
    },
    {
     "name": "stdout",
     "output_type": "stream",
     "text": [
      "1272.67320730087\n"
     ]
    },
    {
     "name": "stderr",
     "output_type": "stream",
     "text": [
      "\n"
     ]
    }
   ],
   "source": [
    "# Set up interval here\n",
    "interval = \"15:30 - 16:00\"\n",
    "\n",
    "# Setting up dataframe with desired intervals\n",
    "final = moreDaysBenchmark(dates, uso_df, interval, cash)\n",
    "print(final)"
   ]
  },
  {
   "cell_type": "markdown",
   "metadata": {},
   "source": [
    "Parts of backtester for today morning close/previous close signal. Our signal is the log(current day 10am close/previous day 4pm close), where if this value is greater than or equal to 0, you go long at 3:30pm today and sell at 4:00pm, and otherwise, you go short. "
   ]
  },
  {
   "cell_type": "code",
   "execution_count": 62,
   "metadata": {},
   "outputs": [],
   "source": [
    "# oneDay2 accepts a filtered dataframe open_close containing only rows with intervals equal to start/end intervals,\n",
    "# i1 and i2 are indices for starting the backtest (do 1, 4 to perform entire backtest), and the amount of cash to \n",
    "# be used in the trade. Does not accept date cuz i1, i2, are used to access rows. Make sure i1 is odd or this fails\n",
    "def oneDay2(open_close, i1, i2, cash):\n",
    "    day = open_close.iloc[i1:i2]\n",
    "    prev_cash = cash\n",
    "    rowiter = day.iterrows()\n",
    "    for (i, row1), (j, row2), (k, row3) in zip(rowiter, rowiter, rowiter):\n",
    "        etfs_bought = 0\n",
    "\n",
    "        # Create Signal\n",
    "        p1 = row2['Close']\n",
    "        p0 = row1['Close']\n",
    "        r1 = math.log((p1/p0), 10)\n",
    "\n",
    "        if r1 >= 0:\n",
    "            # Long\n",
    "            etfs_bought = int(cash/row3['Open'])\n",
    "            cash -= etfs_bought * row3['Open']\n",
    "            etfs_sold_price = etfs_bought * row3['Close']\n",
    "            cash += etfs_sold_price\n",
    "        else:\n",
    "            # Short\n",
    "            etfs_sold = int(cash/row3['Open'])\n",
    "            cash += etfs_sold * row3['Open']\n",
    "            etfs_bought_price = etfs_sold * row3['Close']\n",
    "            cash -= etfs_bought_price\n",
    "    \n",
    "    percentReturns = (cash)/prev_cash\n",
    "    return [cash, row3['Date'], percentReturns]"
   ]
  },
  {
   "cell_type": "markdown",
   "metadata": {},
   "source": [
    "Test oneDay2 for any chosen day (chosen day will be used for previous day close, day after chosen day used for 10 am close and 3:30pm-4:00pm trade). Day chosen is picked by changing i1-i4 value"
   ]
  },
  {
   "cell_type": "code",
   "execution_count": 51,
   "metadata": {},
   "outputs": [
    {
     "data": {
      "text/html": [
       "<div>\n",
       "<style scoped>\n",
       "    .dataframe tbody tr th:only-of-type {\n",
       "        vertical-align: middle;\n",
       "    }\n",
       "\n",
       "    .dataframe tbody tr th {\n",
       "        vertical-align: top;\n",
       "    }\n",
       "\n",
       "    .dataframe thead th {\n",
       "        text-align: right;\n",
       "    }\n",
       "</style>\n",
       "<table border=\"1\" class=\"dataframe\">\n",
       "  <thead>\n",
       "    <tr style=\"text-align: right;\">\n",
       "      <th></th>\n",
       "      <th>Time Interval</th>\n",
       "      <th>Close</th>\n",
       "      <th>Net Chg</th>\n",
       "      <th>Open</th>\n",
       "      <th>High</th>\n",
       "      <th>Low</th>\n",
       "      <th>Tick Count</th>\n",
       "      <th>Volume</th>\n",
       "      <th>Date</th>\n",
       "      <th>Weekday</th>\n",
       "    </tr>\n",
       "  </thead>\n",
       "  <tbody>\n",
       "    <tr>\n",
       "      <th>1</th>\n",
       "      <td>15:30 - 16:00</td>\n",
       "      <td>317.52</td>\n",
       "      <td>-0.08</td>\n",
       "      <td>317.60</td>\n",
       "      <td>318.00</td>\n",
       "      <td>317.44</td>\n",
       "      <td>3879.0</td>\n",
       "      <td>258519.0</td>\n",
       "      <td>2012-01-03</td>\n",
       "      <td>1</td>\n",
       "    </tr>\n",
       "    <tr>\n",
       "      <th>2</th>\n",
       "      <td>09:30 - 10:00</td>\n",
       "      <td>318.24</td>\n",
       "      <td>0.72</td>\n",
       "      <td>316.00</td>\n",
       "      <td>319.68</td>\n",
       "      <td>315.52</td>\n",
       "      <td>13579.0</td>\n",
       "      <td>668658.0</td>\n",
       "      <td>2012-01-04</td>\n",
       "      <td>2</td>\n",
       "    </tr>\n",
       "    <tr>\n",
       "      <th>3</th>\n",
       "      <td>15:30 - 16:00</td>\n",
       "      <td>318.16</td>\n",
       "      <td>-0.08</td>\n",
       "      <td>318.16</td>\n",
       "      <td>318.32</td>\n",
       "      <td>318.00</td>\n",
       "      <td>1719.0</td>\n",
       "      <td>61791.0</td>\n",
       "      <td>2012-01-04</td>\n",
       "      <td>2</td>\n",
       "    </tr>\n",
       "  </tbody>\n",
       "</table>\n",
       "</div>"
      ],
      "text/plain": [
       "   Time Interval   Close  Net Chg    Open    High     Low  Tick Count  \\\n",
       "1  15:30 - 16:00  317.52    -0.08  317.60  318.00  317.44      3879.0   \n",
       "2  09:30 - 10:00  318.24     0.72  316.00  319.68  315.52     13579.0   \n",
       "3  15:30 - 16:00  318.16    -0.08  318.16  318.32  318.00      1719.0   \n",
       "\n",
       "     Volume        Date  Weekday  \n",
       "1  258519.0  2012-01-03        1  \n",
       "2  668658.0  2012-01-04        2  \n",
       "3   61791.0  2012-01-04        2  "
      ]
     },
     "execution_count": 51,
     "metadata": {},
     "output_type": "execute_result"
    }
   ],
   "source": [
    "# Set desired Intervals\n",
    "early_interval = \"09:30 - 10:00\" # On current day\n",
    "late_interval = \"15:30 - 16:00\" # On previous day\n",
    "\n",
    "# Set up dataframe with desired inputs\n",
    "open = uso_df[uso_df['Time Interval'] == early_interval]\n",
    "close = uso_df[uso_df['Time Interval'] == late_interval]\n",
    "open_close = pd.concat([open, close])\n",
    "open_close = open_close.sort_index()\n",
    "open_close = open_close.sort_values(by='Date')\n",
    "open_close = open_close.drop(['Unnamed: 0', 'index'], axis = 1)\n",
    "open_close = open_close.reset_index(drop = True)\n",
    "\n",
    "# Run backtest for oneDay2\n",
    "i1 = 1\n",
    "i2 = 4\n",
    "day = oneDay2(open_close, i1,i2, 1000)\n",
    "day"
   ]
  },
  {
   "cell_type": "markdown",
   "metadata": {},
   "source": [
    "moreDays2 will perform oneDay2 for all days "
   ]
  },
  {
   "cell_type": "code",
   "execution_count": 46,
   "metadata": {},
   "outputs": [],
   "source": [
    "def moreDays2(uso_df, dates, i1, i2, start_interval, end_interval, cash):\n",
    "    returns = pd.DataFrame(columns=['Date','Returns'])\n",
    "    starting_cash = cash\n",
    "    open = uso_df[uso_df['Time Interval'] == start_interval]\n",
    "    close = uso_df[uso_df['Time Interval'] == end_interval]\n",
    "    open_close = pd.concat([open, close])\n",
    "    open_close = open_close.sort_index()\n",
    "    open_close = open_close.sort_values(by='Date')\n",
    "    open_close = open_close.drop(['Unnamed: 0', 'index'], axis = 1)\n",
    "    open_close = open_close.reset_index(drop = True)\n",
    "    while i2 < len(open_close.index):\n",
    "        prev_cash = cash\n",
    "        output = oneDay2(open_close, i1, i2, cash)\n",
    "        cash += output[0]\n",
    "        temp = pd.DataFrame([[output[1],output[2]]], columns = ['Date','Returns'])\n",
    "        returns = returns.append(temp, ignore_index=True)\n",
    "        cash -= prev_cash\n",
    "        i1 += 2\n",
    "        i2 += 2\n",
    "    returns.to_excel('daily_returns.xlsx')\n",
    "    print(\"Starting Cash: {0:.2f}\".format(float(starting_cash)))\n",
    "    print(\"Ending Cash: {0:.2f}\".format(float(cash)))\n",
    "    calculateStats(returns)"
   ]
  },
  {
   "cell_type": "code",
   "execution_count": 47,
   "metadata": {},
   "outputs": [
    {
     "data": {
      "text/html": [
       "<div>\n",
       "<style scoped>\n",
       "    .dataframe tbody tr th:only-of-type {\n",
       "        vertical-align: middle;\n",
       "    }\n",
       "\n",
       "    .dataframe tbody tr th {\n",
       "        vertical-align: top;\n",
       "    }\n",
       "\n",
       "    .dataframe thead th {\n",
       "        text-align: right;\n",
       "    }\n",
       "</style>\n",
       "<table border=\"1\" class=\"dataframe\">\n",
       "  <thead>\n",
       "    <tr style=\"text-align: right;\">\n",
       "      <th></th>\n",
       "      <th>Unnamed: 0</th>\n",
       "      <th>index</th>\n",
       "      <th>Time Interval</th>\n",
       "      <th>Close</th>\n",
       "      <th>Net Chg</th>\n",
       "      <th>Open</th>\n",
       "      <th>High</th>\n",
       "      <th>Low</th>\n",
       "      <th>Tick Count</th>\n",
       "      <th>Volume</th>\n",
       "      <th>Date</th>\n",
       "      <th>Weekday</th>\n",
       "    </tr>\n",
       "  </thead>\n",
       "  <tbody>\n",
       "    <tr>\n",
       "      <th>0</th>\n",
       "      <td>0</td>\n",
       "      <td>2</td>\n",
       "      <td>09:30 - 10:00</td>\n",
       "      <td>315.84</td>\n",
       "      <td>10.96</td>\n",
       "      <td>313.92</td>\n",
       "      <td>316.56</td>\n",
       "      <td>313.92</td>\n",
       "      <td>4153.0</td>\n",
       "      <td>214532.0</td>\n",
       "      <td>2012-01-03</td>\n",
       "      <td>1</td>\n",
       "    </tr>\n",
       "    <tr>\n",
       "      <th>1</th>\n",
       "      <td>1</td>\n",
       "      <td>3</td>\n",
       "      <td>10:00 - 10:30</td>\n",
       "      <td>316.24</td>\n",
       "      <td>0.40</td>\n",
       "      <td>315.84</td>\n",
       "      <td>316.88</td>\n",
       "      <td>315.68</td>\n",
       "      <td>3300.0</td>\n",
       "      <td>142334.0</td>\n",
       "      <td>2012-01-03</td>\n",
       "      <td>1</td>\n",
       "    </tr>\n",
       "    <tr>\n",
       "      <th>2</th>\n",
       "      <td>2</td>\n",
       "      <td>4</td>\n",
       "      <td>10:30 - 11:00</td>\n",
       "      <td>315.76</td>\n",
       "      <td>-0.48</td>\n",
       "      <td>316.32</td>\n",
       "      <td>317.04</td>\n",
       "      <td>315.52</td>\n",
       "      <td>3308.0</td>\n",
       "      <td>125102.0</td>\n",
       "      <td>2012-01-03</td>\n",
       "      <td>1</td>\n",
       "    </tr>\n",
       "    <tr>\n",
       "      <th>3</th>\n",
       "      <td>3</td>\n",
       "      <td>5</td>\n",
       "      <td>11:00 - 11:30</td>\n",
       "      <td>314.48</td>\n",
       "      <td>-1.28</td>\n",
       "      <td>315.76</td>\n",
       "      <td>316.24</td>\n",
       "      <td>314.48</td>\n",
       "      <td>2321.0</td>\n",
       "      <td>78503.0</td>\n",
       "      <td>2012-01-03</td>\n",
       "      <td>1</td>\n",
       "    </tr>\n",
       "    <tr>\n",
       "      <th>4</th>\n",
       "      <td>4</td>\n",
       "      <td>6</td>\n",
       "      <td>11:30 - 12:00</td>\n",
       "      <td>315.44</td>\n",
       "      <td>0.96</td>\n",
       "      <td>314.48</td>\n",
       "      <td>315.68</td>\n",
       "      <td>314.16</td>\n",
       "      <td>2486.0</td>\n",
       "      <td>77054.0</td>\n",
       "      <td>2012-01-03</td>\n",
       "      <td>1</td>\n",
       "    </tr>\n",
       "    <tr>\n",
       "      <th>...</th>\n",
       "      <td>...</td>\n",
       "      <td>...</td>\n",
       "      <td>...</td>\n",
       "      <td>...</td>\n",
       "      <td>...</td>\n",
       "      <td>...</td>\n",
       "      <td>...</td>\n",
       "      <td>...</td>\n",
       "      <td>...</td>\n",
       "      <td>...</td>\n",
       "      <td>...</td>\n",
       "      <td>...</td>\n",
       "    </tr>\n",
       "    <tr>\n",
       "      <th>32872</th>\n",
       "      <td>33088</td>\n",
       "      <td>528</td>\n",
       "      <td>13:30 - 14:00</td>\n",
       "      <td>65.11</td>\n",
       "      <td>-0.06</td>\n",
       "      <td>65.18</td>\n",
       "      <td>65.30</td>\n",
       "      <td>65.01</td>\n",
       "      <td>1994.0</td>\n",
       "      <td>458381.0</td>\n",
       "      <td>2022-02-25</td>\n",
       "      <td>4</td>\n",
       "    </tr>\n",
       "    <tr>\n",
       "      <th>32873</th>\n",
       "      <td>33089</td>\n",
       "      <td>529</td>\n",
       "      <td>14:00 - 14:30</td>\n",
       "      <td>65.31</td>\n",
       "      <td>0.20</td>\n",
       "      <td>65.11</td>\n",
       "      <td>65.50</td>\n",
       "      <td>65.08</td>\n",
       "      <td>2457.0</td>\n",
       "      <td>471463.0</td>\n",
       "      <td>2022-02-25</td>\n",
       "      <td>4</td>\n",
       "    </tr>\n",
       "    <tr>\n",
       "      <th>32874</th>\n",
       "      <td>33090</td>\n",
       "      <td>530</td>\n",
       "      <td>14:30 - 15:00</td>\n",
       "      <td>65.48</td>\n",
       "      <td>0.17</td>\n",
       "      <td>65.35</td>\n",
       "      <td>65.69</td>\n",
       "      <td>65.29</td>\n",
       "      <td>1336.0</td>\n",
       "      <td>293893.0</td>\n",
       "      <td>2022-02-25</td>\n",
       "      <td>4</td>\n",
       "    </tr>\n",
       "    <tr>\n",
       "      <th>32875</th>\n",
       "      <td>33091</td>\n",
       "      <td>531</td>\n",
       "      <td>15:00 - 15:30</td>\n",
       "      <td>65.73</td>\n",
       "      <td>0.25</td>\n",
       "      <td>65.48</td>\n",
       "      <td>65.76</td>\n",
       "      <td>65.47</td>\n",
       "      <td>1240.0</td>\n",
       "      <td>238147.0</td>\n",
       "      <td>2022-02-25</td>\n",
       "      <td>4</td>\n",
       "    </tr>\n",
       "    <tr>\n",
       "      <th>32876</th>\n",
       "      <td>33092</td>\n",
       "      <td>532</td>\n",
       "      <td>15:30 - 16:00</td>\n",
       "      <td>65.80</td>\n",
       "      <td>0.07</td>\n",
       "      <td>65.73</td>\n",
       "      <td>65.85</td>\n",
       "      <td>65.58</td>\n",
       "      <td>2487.0</td>\n",
       "      <td>506784.0</td>\n",
       "      <td>2022-02-25</td>\n",
       "      <td>4</td>\n",
       "    </tr>\n",
       "  </tbody>\n",
       "</table>\n",
       "<p>32877 rows × 12 columns</p>\n",
       "</div>"
      ],
      "text/plain": [
       "       Unnamed: 0  index  Time Interval   Close  Net Chg    Open    High  \\\n",
       "0               0      2  09:30 - 10:00  315.84    10.96  313.92  316.56   \n",
       "1               1      3  10:00 - 10:30  316.24     0.40  315.84  316.88   \n",
       "2               2      4  10:30 - 11:00  315.76    -0.48  316.32  317.04   \n",
       "3               3      5  11:00 - 11:30  314.48    -1.28  315.76  316.24   \n",
       "4               4      6  11:30 - 12:00  315.44     0.96  314.48  315.68   \n",
       "...           ...    ...            ...     ...      ...     ...     ...   \n",
       "32872       33088    528  13:30 - 14:00   65.11    -0.06   65.18   65.30   \n",
       "32873       33089    529  14:00 - 14:30   65.31     0.20   65.11   65.50   \n",
       "32874       33090    530  14:30 - 15:00   65.48     0.17   65.35   65.69   \n",
       "32875       33091    531  15:00 - 15:30   65.73     0.25   65.48   65.76   \n",
       "32876       33092    532  15:30 - 16:00   65.80     0.07   65.73   65.85   \n",
       "\n",
       "          Low  Tick Count    Volume        Date  Weekday  \n",
       "0      313.92      4153.0  214532.0  2012-01-03        1  \n",
       "1      315.68      3300.0  142334.0  2012-01-03        1  \n",
       "2      315.52      3308.0  125102.0  2012-01-03        1  \n",
       "3      314.48      2321.0   78503.0  2012-01-03        1  \n",
       "4      314.16      2486.0   77054.0  2012-01-03        1  \n",
       "...       ...         ...       ...         ...      ...  \n",
       "32872   65.01      1994.0  458381.0  2022-02-25        4  \n",
       "32873   65.08      2457.0  471463.0  2022-02-25        4  \n",
       "32874   65.29      1336.0  293893.0  2022-02-25        4  \n",
       "32875   65.47      1240.0  238147.0  2022-02-25        4  \n",
       "32876   65.58      2487.0  506784.0  2022-02-25        4  \n",
       "\n",
       "[32877 rows x 12 columns]"
      ]
     },
     "execution_count": 47,
     "metadata": {},
     "output_type": "execute_result"
    }
   ],
   "source": [
    "#uso_df = uso_df[uso_df['Weekday'] != 2]\n",
    "uso_df = uso_df.reset_index(drop=True)\n",
    "uso_df"
   ]
  },
  {
   "cell_type": "markdown",
   "metadata": {},
   "source": [
    "Set up input for 10amClose/4pm previous Day close signal backtest"
   ]
  },
  {
   "cell_type": "code",
   "execution_count": 63,
   "metadata": {},
   "outputs": [
    {
     "name": "stdout",
     "output_type": "stream",
     "text": [
      "Starting Cash: 1000.00\n",
      "Ending Cash: 1755.41\n",
      "Backtest Statistics\n",
      "Average Arithmetic Daily Returns: 0.023%\n",
      "Average Geometric Daily Returns: 0.022%\n",
      "Average Arithmetic Yearly Returns: 5.772%\n",
      "Standard Deviation of Daily Returns: 0.003\n",
      "Standard Deviation of Yearly Returns: 0.054\n",
      "Sharpe ratio: 0.700\n"
     ]
    }
   ],
   "source": [
    "# Set up intputs for backtester\n",
    "start_interval = \"09:30 - 10:00\"\n",
    "end_interval = \"15:30 - 16:00\"\n",
    "cash = 1000\n",
    "i1 = 1\n",
    "i2 = 4\n",
    "#\n",
    "moreDays2(uso_df, dates, i1, i2, start_interval, end_interval, cash)"
   ]
  },
  {
   "cell_type": "code",
   "execution_count": null,
   "metadata": {},
   "outputs": [],
   "source": []
  }
 ],
 "metadata": {
  "interpreter": {
   "hash": "54e72497fd64358f52832107e3cdfaf9f975ee2964d8f26ed128ba56fc24de73"
  },
  "kernelspec": {
   "display_name": "Python 3.8.8 ('base')",
   "language": "python",
   "name": "python3"
  },
  "language_info": {
   "codemirror_mode": {
    "name": "ipython",
    "version": 3
   },
   "file_extension": ".py",
   "mimetype": "text/x-python",
   "name": "python",
   "nbconvert_exporter": "python",
   "pygments_lexer": "ipython3",
   "version": "3.8.8"
  },
  "orig_nbformat": 4
 },
 "nbformat": 4,
 "nbformat_minor": 2
}
